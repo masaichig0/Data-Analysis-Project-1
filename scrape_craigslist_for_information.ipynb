{
 "cells": [
  {
   "cell_type": "markdown",
   "id": "99c75057",
   "metadata": {},
   "source": [
    "# Data Anaysis Project part1:\n",
    "\n",
    "I will follow what I am learning from Google Data Analytics course to complete this project.\n",
    "\n",
    "* <a href='http://localhost:8888/notebooks/Desktop/Chilliwack%20Real%20Estate/scrape_craigslist_for_information.ipynb#Analyze'>Ask</a>\n",
    "* Prepare\n",
    "* Process\n",
    "* Analyze\n",
    "* Share\n",
    "* Act\n",
    "\n",
    "\n",
    "\n",
    "## Overview of the project:\n",
    "\n",
    "Analyze housing rental market in Fraser Valley to find out what is hot to real estate investors in this area. Iam going to create the code to analyze dynamically so the investors can apply in their area for their own use.  "
   ]
  },
  {
   "cell_type": "markdown",
   "id": "9b5b0787",
   "metadata": {},
   "source": [
    "\n",
    "## ASK \n",
    "    \n",
    "    Find out what is 'HOT' in the market for investor, so i can find a property for them. Find out supply and demand of the rental housing market and calculate appropreate purchase price. \n",
    "\n",
    "#### What are the questions to ask?\n",
    "Supply side:\n",
    "* How much is the market rental price?\n",
    "* What type of the rental is most popular and least popular?\n",
    "* How many ads per day? Number of supply \n",
    "* Is rental price rising or decreasing over time?\n",
    "* What is the correlation between housing price and rental price?\n",
    "* From those questions, what is my prediction of the rental market? \n",
    "\n",
    "Demand side:\n",
    "* What kind of propety does people look for rent?\n",
    "* What is the price range they are looking for?\n",
    "* What are the purposes of renting. (Who is looking for rent)\n",
    "\n",
    "\n",
    "\n"
   ]
  },
  {
   "cell_type": "markdown",
   "id": "acc19a3f",
   "metadata": {},
   "source": [
    "## Prepare  \n",
    "\n",
    "#### Using Craigslist add to collect market data: (Supply side)\n",
    "Scrape craigslist rental housing pages and store in csv file. \n",
    "\n",
    "<a href='https://github.com/rileypredum/East-Bay-Housing-Web-Scrape/blob/master/EB_Apt_Prices_Final.ipynb'>Code: I will use this code and modify for my situation.  </a> <br>\n",
    "<a href='https://towardsdatascience.com/web-scraping-craigslist-a-complete-tutorial-c41cea4f4981'>Explaning</a>\n",
    "\n",
    "## Process\n",
    "\n",
    "I noticed that the all the values are string, so I will convert collect format as I collect the data. "
   ]
  },
  {
   "cell_type": "code",
   "execution_count": 3,
   "id": "38a17e84",
   "metadata": {},
   "outputs": [],
   "source": [
    "# Import libralis\n",
    "from requests import get\n",
    "from bs4 import BeautifulSoup\n",
    "from datetime import datetime\n",
    "import pandas as pd\n",
    "import numpy as np\n",
    "\n",
    "from time import sleep\n",
    "import re\n",
    "from random import randint\n",
    "from warnings import warn\n",
    "from time import time\n",
    "from IPython.display import clear_output"
   ]
  },
  {
   "cell_type": "code",
   "execution_count": 4,
   "id": "337dd4b1",
   "metadata": {},
   "outputs": [
    {
     "name": "stdout",
     "output_type": "stream",
     "text": [
      "<class 'bs4.element.ResultSet'>\n",
      "120\n"
     ]
    }
   ],
   "source": [
    "# Chilliwack rental housing\n",
    "response = get('https://abbotsford.craigslist.org/search/apa')\n",
    "\n",
    "\n",
    "soup = BeautifulSoup(response.text, 'html.parser')\n",
    "\n",
    "posts = soup.find_all('li', class_='result-row')\n",
    "print(type(posts)) # to double check that I got resultSet\n",
    "print(len(posts)) # to double check I got 120 elements"
   ]
  },
  {
   "cell_type": "code",
   "execution_count": null,
   "id": "994d52f0",
   "metadata": {},
   "outputs": [],
   "source": [
    "# Find the total number of posts to find the limit of the pagination\n",
    "results_num = soup.find('div', class_='search-legend')\n",
    "results_total = int(results_num.find('span', class_='totalcount').text)\n",
    "'''\n",
    "each page has 119 postsso each new page is defined as follows: s=120, s=240, s=360, and so on. \n",
    "So we need to step in size 120 in the np.arange function. \n",
    "'''\n",
    "pages = np.arange(0, results_total+1, 120)\n",
    "\n",
    "iterations = 0\n",
    "\n",
    "post_date = []\n",
    "post_city = []\n",
    "num_bedroom = []\n",
    "sqfts = []\n",
    "prices = []\n",
    "post_titles = []\n",
    "\n"
   ]
  },
  {
   "cell_type": "code",
   "execution_count": 63,
   "id": "27bc612e",
   "metadata": {},
   "outputs": [
    {
     "data": {
      "text/plain": [
       "<li class=\"result-row\" data-pid=\"7564002948\">\n",
       "<a class=\"result-image gallery\" data-ids=\"3:00D0D_56NwURftNQFz_0CI0t2,3:00x0x_fzjJHQSjxVcz_0CI0t2,3:00707_hmllmoK161mz_0CI0t2,3:01111_kzcHYMo3bWNz_0CI0t2,3:00404_hcpi8xcoAH8z_0CI0t2,3:01111_3eSAztI53CEz_0CI0t2,3:00d0d_9q1V2d3DCtwz_0CI0lM,3:00505_fxZJmZ1gpatz_0CI0lM,3:00V0V_92oigfg7KcYz_0CI0lM,3:00000_cJNzhSxcMkgz_0CI0lM,3:01717_7605xguliqiz_0CI0lM,3:00D0D_kFwMVL9UBkSz_0CI0lM,3:00X0X_EcfeRI5fG1z_0CI0lM,3:00s0s_cSGLJpkJpqbz_0lM0CI,3:00E0E_4lLcwRGiNNcz_0lM0CI,3:00c0c_8zCehLgFbTLz_0lM0CI,3:00I0I_hwObpZdSVDcz_0lM0CI,3:01111_1iBLNSsTuaLz_0lM0CI,3:00s0s_bdokfF0vEhjz_0lM0CI,3:00H0H_5kBfKsjlt3mz_0lM0CI,3:00z0z_6PRQ6JnaKK6z_0t20CI,3:00r0r_7iKRiTst1vXz_0CI0t2,3:00303_kP8vIMJNHMfz_0CI0lM,3:00k0k_6sPv4oozZajz_0CI0lM\" href=\"https://abbotsford.craigslist.org/apa/d/abbotsford-beautiful-east-abbotsford/7564002948.html\">\n",
       "<span class=\"result-price\">$3,695</span>\n",
       "</a>\n",
       "<div class=\"result-info\">\n",
       "<span class=\"icon icon-star\" role=\"button\">\n",
       "<span class=\"screen-reader-text\">favorite this post</span>\n",
       "</span>\n",
       "<time class=\"result-date\" datetime=\"2022-12-05 11:23\" title=\"Mon 05 Dec 11:23:20 AM\">Dec  5</time>\n",
       "<h3 class=\"result-heading\">\n",
       "<a class=\"result-title hdrlnk\" data-id=\"7564002948\" href=\"https://abbotsford.craigslist.org/apa/d/abbotsford-beautiful-east-abbotsford/7564002948.html\" id=\"postid_7564002948\">Beautiful East Abbotsford 5 bdrm House for Rent</a>\n",
       "</h3>\n",
       "<span class=\"result-meta\">\n",
       "<span class=\"result-price\">$3,695</span>\n",
       "<span class=\"housing\">\n",
       "                    5br -\n",
       "                    2450ft<sup>2</sup> -\n",
       "                </span>\n",
       "<span class=\"result-hood\"> (Abbotsford)</span>\n",
       "<span class=\"result-tags\">\n",
       "<span class=\"pictag\">pic</span>\n",
       "</span>\n",
       "<span class=\"banish icon icon-trash\" role=\"button\">\n",
       "<span class=\"screen-reader-text\">hide this posting</span>\n",
       "</span>\n",
       "<span aria-hidden=\"true\" class=\"unbanish icon icon-trash red\" role=\"button\"></span>\n",
       "<a class=\"restore-link\" href=\"#\">\n",
       "<span class=\"restore-narrow-text\">restore</span>\n",
       "<span class=\"restore-wide-text\">restore this posting</span>\n",
       "</a>\n",
       "</span>\n",
       "</div>\n",
       "</li>"
      ]
     },
     "execution_count": 63,
     "metadata": {},
     "output_type": "execute_result"
    }
   ],
   "source": [
    "# Show first post to look into it\n",
    "post_one = posts[0]\n",
    "post_one"
   ]
  },
  {
   "cell_type": "code",
   "execution_count": 37,
   "id": "5bdd9ce5",
   "metadata": {},
   "outputs": [
    {
     "data": {
      "text/plain": [
       "'Abbotsford'"
      ]
     },
     "execution_count": 37,
     "metadata": {},
     "output_type": "execute_result"
    }
   ],
   "source": [
    "# City posted\n",
    "post_city = post_one.find('span', class_='result-hood').text.strip('( )')\n",
    "post_city"
   ]
  },
  {
   "cell_type": "code",
   "execution_count": 42,
   "id": "bb685470",
   "metadata": {},
   "outputs": [
    {
     "data": {
      "text/plain": [
       "(5, int)"
      ]
     },
     "execution_count": 42,
     "metadata": {},
     "output_type": "execute_result"
    }
   ],
   "source": [
    "# Number of bedroom\n",
    "num_bed = int(post_one.find('span', class_='housing').text.split()[0].replace('br', ''))\n",
    "num_bed, type(num_bed)"
   ]
  },
  {
   "cell_type": "code",
   "execution_count": 45,
   "id": "67285b14",
   "metadata": {},
   "outputs": [
    {
     "data": {
      "text/plain": [
       "(2450, int)"
      ]
     },
     "execution_count": 45,
     "metadata": {},
     "output_type": "execute_result"
    }
   ],
   "source": [
    "# SQFT\n",
    "sqft = int(post_one.find('span', class_='housing').text.split()[2].replace('ft2', ''))\n",
    "sqft, type(sqft)"
   ]
  },
  {
   "cell_type": "code",
   "execution_count": 36,
   "id": "b5499195",
   "metadata": {},
   "outputs": [
    {
     "data": {
      "text/plain": [
       "(3695, int)"
      ]
     },
     "execution_count": 36,
     "metadata": {},
     "output_type": "execute_result"
    }
   ],
   "source": [
    "# rental price\n",
    "price = int(post_one.find('span', class_='result-price').text.split('$')[1].replace(',', ''))\n",
    "price, type(price)"
   ]
  },
  {
   "cell_type": "code",
   "execution_count": 38,
   "id": "7a8f7c32",
   "metadata": {},
   "outputs": [
    {
     "data": {
      "text/plain": [
       "'Beautiful East Abbotsford 5 bdrm House for Rent'"
      ]
     },
     "execution_count": 38,
     "metadata": {},
     "output_type": "execute_result"
    }
   ],
   "source": [
    "# Post ad title\n",
    "post_ad = post_one.find('a', class_='result-title hdrlnk').text\n",
    "post_ad"
   ]
  },
  {
   "cell_type": "code",
   "execution_count": 56,
   "id": "a985ddbd",
   "metadata": {},
   "outputs": [
    {
     "data": {
      "text/plain": [
       "(datetime.datetime(2022, 12, 5, 11, 23), datetime.datetime)"
      ]
     },
     "execution_count": 56,
     "metadata": {},
     "output_type": "execute_result"
    }
   ],
   "source": [
    "# post datetime\n",
    "datetime = datetime.strptime(post_one.find('time', class_='result-date')['datetime'], '%Y-%m-%d %H:%M')\n",
    "datetime, type(datetime)"
   ]
  },
  {
   "cell_type": "code",
   "execution_count": 57,
   "id": "36065094",
   "metadata": {},
   "outputs": [
    {
     "data": {
      "text/plain": [
       "<div class=\"search-legend\">\n",
       "<div class=\"search-view js-only\">\n",
       "<div aria-expanded=\"false\" aria-label=\"view options\" class=\"dropdown dropdown-icons dropdown-arrows dropdown-view\" role=\"toolbar\">\n",
       "<ul class=\"dropdown-list\">\n",
       "<li class=\"dropdown-item mode sel\">\n",
       "<button data-selection=\"list\" id=\"listview\" title=\"show results in a list\">\n",
       "<span class=\"view-list icon\"></span>list\n",
       "                </button>\n",
       "<span class=\"toggle-arrow\"></span>\n",
       "</li>\n",
       "<li class=\"dropdown-item mode\">\n",
       "<button data-selection=\"pic\" id=\"picview\" title=\"show results in a list with thumbnail pictures\">\n",
       "<span class=\"view-thumb icon\"></span>thumb\n",
       "                </button>\n",
       "<span class=\"toggle-arrow\"></span>\n",
       "</li>\n",
       "<li class=\"dropdown-item mode\">\n",
       "<button data-selection=\"grid\" id=\"gridview\" title=\"show results side-by-side with larger pictures\">\n",
       "<span class=\"view-gallery icon\"></span>gallery\n",
       "                </button>\n",
       "<span class=\"toggle-arrow\"></span>\n",
       "</li>\n",
       "<li class=\"dropdown-item mode\">\n",
       "<button data-selection=\"map\" id=\"mapview\" title=\"show results on a map\">\n",
       "<span class=\"view-map icon\"></span>map\n",
       "                    </button>\n",
       "<span class=\"toggle-arrow\"></span>\n",
       "</li>\n",
       "</ul>\n",
       "</div>\n",
       "</div>\n",
       "<div class=\"search-sort\">\n",
       "<div aria-expanded=\"false\" aria-label=\"sort options\" class=\"dropdown dropdown-sort dropdown-arrows\" data-default-sort=\"date\" role=\"toolbar\">\n",
       "<ul class=\"dropdown-list\">\n",
       "<li aria-selected=\"false\" class=\"dropdown-item mode\">\n",
       "<a data-selection=\"upcoming\" href=\"/search/apa?sort=upcoming&amp;\" title=\"show upcoming open houses\">upcoming <span class=\"toggle-arrow\"></span></a>\n",
       "</li>\n",
       "<li aria-selected=\"true\" class=\"dropdown-item mode sel\">\n",
       "<a data-selection=\"date\" href=\"/search/apa?sort=date&amp;\" title=\"show newest matches first\">newest <span class=\"toggle-arrow\"></span></a>\n",
       "</li>\n",
       "<li aria-selected=\"false\" class=\"dropdown-item mode\">\n",
       "<a data-selection=\"dateoldest\" href=\"/search/apa?sort=dateoldest&amp;\" title=\"show oldest matches first\">oldest <span class=\"toggle-arrow\"></span></a>\n",
       "</li>\n",
       "<li aria-selected=\"false\" class=\"dropdown-item mode\">\n",
       "<a data-selection=\"priceasc\" href=\"/search/apa?sort=priceasc&amp;\" title=\"sort by price, lowest to highest\">﹩→ $$$ <span class=\"toggle-arrow\"></span></a>\n",
       "</li>\n",
       "<li aria-selected=\"false\" class=\"dropdown-item mode\">\n",
       "<a data-selection=\"pricedsc\" href=\"/search/apa?sort=pricedsc&amp;\" title=\"sort by price, highest to lowest\">$$$ → ﹩ <span class=\"toggle-arrow\"></span></a>\n",
       "</li>\n",
       "</ul>\n",
       "</div>\n",
       "</div>\n",
       "<div class=\"paginator buttongroup firstpage\">\n",
       "<span class=\"resulttotal\">\n",
       "<span class=\"for-map\">\n",
       "        showing <span class=\"displaycountShow\">...</span> postings\n",
       "        <span class=\"zoom-out-for-more\" style=\"display: none\">\n",
       "            -\n",
       "            <a href=\"\">\n",
       "                zoom out for all <span class=\"total\">1536</span>\n",
       "</a>\n",
       "</span>\n",
       "</span>\n",
       "</span>\n",
       "<span class=\"buttons\">\n",
       "<a class=\"button first\" href=\"/search/apa\" title=\"first page\">&lt;&lt;</a>\n",
       "<span class=\"button first\" title=\"first page\">&lt;&lt;</span>\n",
       "<a class=\"button prev\" href=\"/search/apa\" title=\"previous page\">&lt; prev</a>\n",
       "<span class=\"button prev\" title=\"previous page\">&lt; prev</span>\n",
       "<span class=\"button pagenum\">\n",
       "<span class=\"range\">\n",
       "<span class=\"rangeFrom\">1</span>\n",
       "                -\n",
       "                <span class=\"rangeTo\">120</span>\n",
       "</span>\n",
       "            /\n",
       "            <span class=\"totalcount\">1536</span>\n",
       "</span>\n",
       "<a class=\"button next\" href=\"/search/apa?s=120\" title=\"next page\">next &gt; </a>\n",
       "<span class=\"button next\" title=\"next page\"> next &gt; </span>\n",
       "</span>\n",
       "</div>\n",
       "</div>"
      ]
     },
     "execution_count": 57,
     "metadata": {},
     "output_type": "execute_result"
    }
   ],
   "source": [
    "soup.find('div', class_='search-legend')"
   ]
  },
  {
   "cell_type": "code",
   "execution_count": 59,
   "id": "cad4f4b2",
   "metadata": {},
   "outputs": [
    {
     "data": {
      "text/plain": [
       "1536"
      ]
     },
     "execution_count": 59,
     "metadata": {},
     "output_type": "execute_result"
    }
   ],
   "source": [
    "results_num = soup.find('div', class_='search-legend')\n",
    "results_total = int(results_num.find('span', class_='totalcount').text)\n",
    "results_total"
   ]
  },
  {
   "cell_type": "code",
   "execution_count": 61,
   "id": "c8460446",
   "metadata": {},
   "outputs": [
    {
     "data": {
      "text/plain": [
       "array([   0,  120,  240,  360,  480,  600,  720,  840,  960, 1080, 1200,\n",
       "       1320, 1440])"
      ]
     },
     "execution_count": 61,
     "metadata": {},
     "output_type": "execute_result"
    }
   ],
   "source": [
    "pages = np.arange(0,results_total+1, 120)\n",
    "pages"
   ]
  },
  {
   "cell_type": "markdown",
   "id": "243c9e11",
   "metadata": {},
   "source": [
    "## Analyze"
   ]
  },
  {
   "cell_type": "markdown",
   "id": "b6f6265f",
   "metadata": {},
   "source": [
    "## Share"
   ]
  },
  {
   "cell_type": "markdown",
   "id": "64eaddb7",
   "metadata": {},
   "source": [
    "## Act"
   ]
  },
  {
   "cell_type": "code",
   "execution_count": null,
   "id": "ac088d6c",
   "metadata": {},
   "outputs": [],
   "source": []
  }
 ],
 "metadata": {
  "kernelspec": {
   "display_name": "Python 3 (ipykernel)",
   "language": "python",
   "name": "python3"
  },
  "language_info": {
   "codemirror_mode": {
    "name": "ipython",
    "version": 3
   },
   "file_extension": ".py",
   "mimetype": "text/x-python",
   "name": "python",
   "nbconvert_exporter": "python",
   "pygments_lexer": "ipython3",
   "version": "3.9.12"
  }
 },
 "nbformat": 4,
 "nbformat_minor": 5
}
