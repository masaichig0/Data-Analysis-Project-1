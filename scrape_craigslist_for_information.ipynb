{
 "cells": [
  {
   "cell_type": "markdown",
   "id": "099f177d",
   "metadata": {},
   "source": [
    "# Data Anaysis Project part1:\n",
    "\n",
    "I will follow what I am learning from Google Data Analytics course to complete this project.\n",
    "\n",
    "* Ask\n",
    "* Prepare\n",
    "* Process\n",
    "* Analyze\n",
    "* Share\n",
    "* Act\n",
    "\n",
    "\n",
    "\n",
    "## Overview of the project:\n",
    "\n",
    "Analyze housing rental market in Fraser Valley to find out what is hot to real estate investors in this area. Iam going to create the code to analyze dynamically so the investors can apply in their area for their own use.  "
   ]
  },
  {
   "cell_type": "markdown",
   "id": "9b5b0787",
   "metadata": {},
   "source": [
    "\n",
    "## ASK \n",
    "    \n",
    "    Find out what is 'HOT' in the market for investor, so i can find a property for them. Find out supply and demand of the rental housing market and calculate appropreate purchase price. \n",
    "\n",
    "#### What are the questions to ask?\n",
    "Supply side:\n",
    "* How much is the market rental price?\n",
    "* What type of the rental is most popular and least popular?\n",
    "* How many ads per day? Number of supply \n",
    "* Is rental price rising or decreasing over time?\n",
    "* What is the correlation between housing price and rental price?\n",
    "* From those questions, what is my prediction of the rental market? \n",
    "\n",
    "Demand side:\n",
    "* What kind of propety does people look for rent?\n",
    "* What is the price range they are looking for?\n",
    "* What are the purposes of renting. (Who is looking for rent)\n",
    "\n",
    "\n",
    "\n"
   ]
  },
  {
   "cell_type": "markdown",
   "id": "acc19a3f",
   "metadata": {},
   "source": [
    "## Prepare  \n",
    "\n",
    "#### Using Craigslist add to collect market data: (Supply side)\n",
    "Scrape craigslist rental housing pages and store in csv file. \n",
    "\n",
    "<a href='https://github.com/rileypredum/East-Bay-Housing-Web-Scrape/blob/master/EB_Apt_Prices_Final.ipynb'>Code: I will use this code and modify for my situation.  </a> <br>\n",
    "<a href='https://towardsdatascience.com/web-scraping-craigslist-a-complete-tutorial-c41cea4f4981'>Explaning</a>\n",
    "\n",
    "## Process\n",
    "\n",
    "I noticed that the all the values are string, so I will convert to correct data type as I collect the data. "
   ]
  },
  {
   "cell_type": "code",
   "execution_count": 1,
   "id": "38a17e84",
   "metadata": {},
   "outputs": [],
   "source": [
    "# Import libralis\n",
    "from requests import get\n",
    "from bs4 import BeautifulSoup\n",
    "from datetime import datetime\n",
    "import pandas as pd\n",
    "import numpy as np\n",
    "\n",
    "from time import sleep\n",
    "import re\n",
    "from random import randint\n",
    "from warnings import warn\n",
    "from time import time\n",
    "from IPython.display import clear_output"
   ]
  },
  {
   "cell_type": "code",
   "execution_count": 2,
   "id": "c27611ac",
   "metadata": {},
   "outputs": [],
   "source": [
    "def get_url(city_name, num_post):\n",
    "    return f'https://{city_name.lower()}.craigslist.org/search/apa?s={num_post}'"
   ]
  },
  {
   "cell_type": "code",
   "execution_count": 8,
   "id": "337dd4b1",
   "metadata": {},
   "outputs": [
    {
     "name": "stdout",
     "output_type": "stream",
     "text": [
      "<class 'bs4.element.ResultSet'>\n",
      "120\n"
     ]
    }
   ],
   "source": [
    "# Chilliwack rental housing\n",
    "\n",
    "response = get(get_url(city_name = 'Abbotsford', num_post = 120))\n",
    "\n",
    "\n",
    "soup = BeautifulSoup(response.text, 'html.parser')\n",
    "\n",
    "posts = soup.find_all('li', class_='result-row')\n",
    "print(type(posts)) # to double check that I got resultSet\n",
    "print(len(posts)) # to double check I got 120 elements"
   ]
  },
  {
   "cell_type": "code",
   "execution_count": 103,
   "id": "5c64c7af",
   "metadata": {},
   "outputs": [
    {
     "name": "stdout",
     "output_type": "stream",
     "text": [
      "Total number of search result: 3000\n",
      "CPU times: total: 5.19 s\n",
      "Wall time: 46.2 s\n"
     ]
    }
   ],
   "source": [
    "%%time\n",
    "# Find the total number of posts to find the limit of the pagination\n",
    "city = 'Vancouver'\n",
    "response = get(get_url(city_name = city, num_post=0))\n",
    "soup = BeautifulSoup(response.text, 'html.parser')\n",
    "posts = soup.find_all('li', class_='result-row')\n",
    "results_num = soup.find('div', class_='search-legend')\n",
    "results_total = int(results_num.find('span', class_='totalcount').text)\n",
    "print(f\"Total number of search result: {results_total}\")\n",
    "\n",
    "# each page has 119 posts so each new page is defined as follows; s=120, s=240, .....\n",
    "pages = np.arange(0, results_total+1, 120)\n",
    "\n",
    "iterations = 0\n",
    "\n",
    "post_date = []\n",
    "post_cities = []\n",
    "num_bedroom = []\n",
    "sqfts = []\n",
    "prices = []\n",
    "post_titles = []\n",
    "post_links = []\n",
    "\n",
    "for page in pages:\n",
    "    \n",
    "    # get request\n",
    "    response = get(get_url(city_name=city, num_post=page))\n",
    "    \n",
    "    sleep(1)\n",
    "    \n",
    "    # throw warning for status code that are not 200\n",
    "    if response.status_code != 200:\n",
    "        warn(f'Request: {requests}; Status code: {response.status_code}')\n",
    "        \n",
    "    soup = BeautifulSoup(response.text, 'html.parser')\n",
    "    \n",
    "    posts = soup.find_all('li', class_='result-row')\n",
    "    \n",
    "    \n",
    "    # Extract data \n",
    "    for post in posts:\n",
    "        \n",
    "        if post.find('span', class_ = 'result-hood') is not None:\n",
    "            \n",
    "            # Posting date\n",
    "            post_datetime = post.find('time', class_='result-date')['datetime']\n",
    "            post_date.append(post_datetime)\n",
    "            \n",
    "            # Neighbourhoods\n",
    "            post_city = post.find('span', class_='result-hood').text.strip('( )')\n",
    "            post_cities.append(post_city)\n",
    "            \n",
    "            # title text\n",
    "            post_title = post.find('a', class_='result-title hdrlnk')\n",
    "            post_title_text = post_title.text\n",
    "            post_titles.append(post_title_text)\n",
    "            \n",
    "            # Post price in integer\n",
    "            price = int(post.find('span', class_='result-price').text.split('$')[1].replace(',', ''))\n",
    "            prices.append(price)\n",
    "            \n",
    "            # Post link\n",
    "            post_link = post_title['href']\n",
    "            post_links.append(post_link)\n",
    "            \n",
    "            if post.find('span', class_ = 'housing') is not None:\n",
    "                \n",
    "                #if the first element is accidentally square footage\n",
    "                if 'ft2' in post.find('span', class_ = 'housing').text.split()[0]:\n",
    "                    \n",
    "                    #make bedroom nan\n",
    "                    bedroom_count = np.nan\n",
    "                    num_bedroom.append(bedroom_count)\n",
    "                    \n",
    "                    #make sqft the first element\n",
    "                    sqft = int(post.find('span', class_ = 'housing').text.split()[0][:-3])\n",
    "                    sqfts.append(sqft)\n",
    "                    \n",
    "                #if the length of the housing details element is more than 2\n",
    "                elif len(post.find('span', class_ = 'housing').text.split()) > 2:\n",
    "                    \n",
    "                    #therefore element 0 will be bedroom count\n",
    "                    bedroom_count = post.find('span', class_ = 'housing').text.replace(\"br\", \"\").split()[0]\n",
    "                    num_bedroom.append(bedroom_count)\n",
    "                    \n",
    "                    #and sqft will be number 3, so set these here and append\n",
    "                    sqft = int(post.find('span', class_ = 'housing').text.split()[2][:-3])\n",
    "                    sqfts.append(sqft)\n",
    "                    \n",
    "                #if there is num bedrooms but no sqft\n",
    "                elif len(post.find('span', class_ = 'housing').text.split()) == 2:\n",
    "                    \n",
    "                    #therefore element 0 will be bedroom count\n",
    "                    bedroom_count = post.find('span', class_ = 'housing').text.replace(\"br\", \"\").split()[0]\n",
    "                    num_bedroom.append(bedroom_count)\n",
    "                    \n",
    "                    #and sqft will be number 3, so set these here and append\n",
    "                    sqft = np.nan\n",
    "                    sqfts.append(sqft)                    \n",
    "                \n",
    "                else:\n",
    "                    bedroom_count = np.nan\n",
    "                    num_bedroom.append(bedroom_count)\n",
    "                \n",
    "                    sqft = np.nan\n",
    "                    sqfts.append(sqft)\n",
    "                \n",
    "            #if none of those conditions catch, make bedroom nan, this won't be needed    \n",
    "            else:\n",
    "                bedroom_count = np.nan\n",
    "                num_bedroom.append(bedroom_count)\n",
    "                \n",
    "                sqft = np.nan\n",
    "                sqfts.append(sqft)\n",
    "            #    num_bedroom.append(bedroom_count)\n",
    "                \n",
    "            #    sqft = np.nan\n",
    "            #    sqfts.append(sqft)\n",
    "        iterations += 1\n",
    "        #print(\"Page\" + str(iterations) + \"Scraped Successfully!\")   "
   ]
  },
  {
   "cell_type": "code",
   "execution_count": 104,
   "id": "2eed5e37",
   "metadata": {},
   "outputs": [
    {
     "name": "stdout",
     "output_type": "stream",
     "text": [
      "<class 'pandas.core.frame.DataFrame'>\n",
      "RangeIndex: 3000 entries, 0 to 2999\n",
      "Data columns (total 7 columns):\n",
      " #   Column         Non-Null Count  Dtype  \n",
      "---  ------         --------------  -----  \n",
      " 0   Post Datetime  3000 non-null   object \n",
      " 1   Post Title     3000 non-null   object \n",
      " 2   Post URL       3000 non-null   object \n",
      " 3   Neighborhood   3000 non-null   object \n",
      " 4   Bedroom        2876 non-null   object \n",
      " 5   SQFT           2664 non-null   float64\n",
      " 6   Price          3000 non-null   int64  \n",
      "dtypes: float64(1), int64(1), object(5)\n",
      "memory usage: 164.2+ KB\n",
      "None\n"
     ]
    },
    {
     "data": {
      "text/html": [
       "<div>\n",
       "<style scoped>\n",
       "    .dataframe tbody tr th:only-of-type {\n",
       "        vertical-align: middle;\n",
       "    }\n",
       "\n",
       "    .dataframe tbody tr th {\n",
       "        vertical-align: top;\n",
       "    }\n",
       "\n",
       "    .dataframe thead th {\n",
       "        text-align: right;\n",
       "    }\n",
       "</style>\n",
       "<table border=\"1\" class=\"dataframe\">\n",
       "  <thead>\n",
       "    <tr style=\"text-align: right;\">\n",
       "      <th></th>\n",
       "      <th>Post Datetime</th>\n",
       "      <th>Post Title</th>\n",
       "      <th>Post URL</th>\n",
       "      <th>Neighborhood</th>\n",
       "      <th>Bedroom</th>\n",
       "      <th>SQFT</th>\n",
       "      <th>Price</th>\n",
       "    </tr>\n",
       "  </thead>\n",
       "  <tbody>\n",
       "    <tr>\n",
       "      <th>0</th>\n",
       "      <td>2022-12-07 17:33</td>\n",
       "      <td>New Furnished Modern 1 Bedroom 1br suite in Ce...</td>\n",
       "      <td>https://vancouver.craigslist.org/bnc/apa/d/bur...</td>\n",
       "      <td>Burnaby Near Metrotown EA, and Brentwood BCIT</td>\n",
       "      <td>1</td>\n",
       "      <td>550.0</td>\n",
       "      <td>1790</td>\n",
       "    </tr>\n",
       "    <tr>\n",
       "      <th>1</th>\n",
       "      <td>2022-12-07 17:32</td>\n",
       "      <td>Fully Furnished 2 Bedrooms Suite at the Mark -...</td>\n",
       "      <td>https://vancouver.craigslist.org/van/apa/d/van...</td>\n",
       "      <td>1372 Seymour</td>\n",
       "      <td>2</td>\n",
       "      <td>1200.0</td>\n",
       "      <td>8000</td>\n",
       "    </tr>\n",
       "    <tr>\n",
       "      <th>2</th>\n",
       "      <td>2022-12-07 17:30</td>\n",
       "      <td>(ORCA_REF#1701-8533) ***PENTHOUSE ALERT! Luxur...</td>\n",
       "      <td>https://vancouver.craigslist.org/van/apa/d/van...</td>\n",
       "      <td>South Marine</td>\n",
       "      <td>4</td>\n",
       "      <td>1886.0</td>\n",
       "      <td>10000</td>\n",
       "    </tr>\n",
       "    <tr>\n",
       "      <th>3</th>\n",
       "      <td>2022-12-07 17:29</td>\n",
       "      <td>Water View, Large 2BR Fully Furnished, office,...</td>\n",
       "      <td>https://vancouver.craigslist.org/van/apa/d/van...</td>\n",
       "      <td>588 Broughton Street</td>\n",
       "      <td>2</td>\n",
       "      <td>950.0</td>\n",
       "      <td>4495</td>\n",
       "    </tr>\n",
       "    <tr>\n",
       "      <th>4</th>\n",
       "      <td>2022-12-07 17:29</td>\n",
       "      <td>LARGE 1 BEDROOM</td>\n",
       "      <td>https://vancouver.craigslist.org/van/apa/d/van...</td>\n",
       "      <td>1477 e broadway</td>\n",
       "      <td>1</td>\n",
       "      <td>650.0</td>\n",
       "      <td>1795</td>\n",
       "    </tr>\n",
       "  </tbody>\n",
       "</table>\n",
       "</div>"
      ],
      "text/plain": [
       "      Post Datetime                                         Post Title  \\\n",
       "0  2022-12-07 17:33  New Furnished Modern 1 Bedroom 1br suite in Ce...   \n",
       "1  2022-12-07 17:32  Fully Furnished 2 Bedrooms Suite at the Mark -...   \n",
       "2  2022-12-07 17:30  (ORCA_REF#1701-8533) ***PENTHOUSE ALERT! Luxur...   \n",
       "3  2022-12-07 17:29  Water View, Large 2BR Fully Furnished, office,...   \n",
       "4  2022-12-07 17:29                                    LARGE 1 BEDROOM   \n",
       "\n",
       "                                            Post URL  \\\n",
       "0  https://vancouver.craigslist.org/bnc/apa/d/bur...   \n",
       "1  https://vancouver.craigslist.org/van/apa/d/van...   \n",
       "2  https://vancouver.craigslist.org/van/apa/d/van...   \n",
       "3  https://vancouver.craigslist.org/van/apa/d/van...   \n",
       "4  https://vancouver.craigslist.org/van/apa/d/van...   \n",
       "\n",
       "                                    Neighborhood Bedroom    SQFT  Price  \n",
       "0  Burnaby Near Metrotown EA, and Brentwood BCIT       1   550.0   1790  \n",
       "1                                   1372 Seymour       2  1200.0   8000  \n",
       "2                                   South Marine       4  1886.0  10000  \n",
       "3                           588 Broughton Street       2   950.0   4495  \n",
       "4                                1477 e broadway       1   650.0   1795  "
      ]
     },
     "execution_count": 104,
     "metadata": {},
     "output_type": "execute_result"
    }
   ],
   "source": [
    "# create DataFrame\n",
    "df = pd.DataFrame({'Post Datetime': post_date,\n",
    "                   'Post Title': post_titles,\n",
    "                   'Post URL': post_links,\n",
    "                  'Neighborhood': post_cities,\n",
    "                  'Bedroom': num_bedroom,\n",
    "                  'SQFT': sqfts,\n",
    "                  'Price': prices})\n",
    "\n",
    "print(df.info())\n",
    "\n",
    "df.head()"
   ]
  },
  {
   "cell_type": "code",
   "execution_count": 105,
   "id": "3c91f6ee",
   "metadata": {},
   "outputs": [
    {
     "data": {
      "text/plain": [
       "0       False\n",
       "1       False\n",
       "2       False\n",
       "3       False\n",
       "4       False\n",
       "        ...  \n",
       "2995    False\n",
       "2996    False\n",
       "2997    False\n",
       "2998    False\n",
       "2999    False\n",
       "Name: Bedroom, Length: 3000, dtype: bool"
      ]
     },
     "execution_count": 105,
     "metadata": {},
     "output_type": "execute_result"
    }
   ],
   "source": [
    "df['Bedroom'] == np.nan"
   ]
  },
  {
   "cell_type": "markdown",
   "id": "87fdfbd7",
   "metadata": {},
   "source": [
    "## Process\n",
    "\n",
    "Check the dataset I created from the Craigslist ad and final adjustment of the dataset to analyze the data. \n",
    "\n",
    "First to check the dataset:"
   ]
  },
  {
   "cell_type": "code",
   "execution_count": 79,
   "id": "98d6b7aa",
   "metadata": {},
   "outputs": [
    {
     "name": "stdout",
     "output_type": "stream",
     "text": [
      "<class 'pandas.core.frame.DataFrame'>\n",
      "RangeIndex: 3000 entries, 0 to 2999\n",
      "Data columns (total 7 columns):\n",
      " #   Column         Non-Null Count  Dtype  \n",
      "---  ------         --------------  -----  \n",
      " 0   Post Datetime  3000 non-null   object \n",
      " 1   Post Title     3000 non-null   object \n",
      " 2   Post URL       3000 non-null   object \n",
      " 3   Neighborhood   3000 non-null   object \n",
      " 4   Bedroom        2877 non-null   object \n",
      " 5   SQFT           2661 non-null   float64\n",
      " 6   Price          3000 non-null   int64  \n",
      "dtypes: float64(1), int64(1), object(5)\n",
      "memory usage: 164.2+ KB\n"
     ]
    }
   ],
   "source": [
    "df.info()"
   ]
  },
  {
   "cell_type": "markdown",
   "id": "abcead15",
   "metadata": {},
   "source": [
    "I would like to distingish FULLY FURNISHED suite and not furnished suite. I will create another column to show if it isTURE or FALSE. I noticed the title says if it is furnished suite or not (If not on the title, I assume that the suite is not furnished) \n",
    "\n",
    "Also, I noticed that the number of bedroom is string, so I will convert to integer. "
   ]
  },
  {
   "cell_type": "code",
   "execution_count": 121,
   "id": "6c0e8bb2",
   "metadata": {},
   "outputs": [],
   "source": [
    "# Convert Bedroom number strings to Integer then NaN value to 0 assume 0 bedroom is studio appartment. \n",
    "df[\"Bedroom\"] = pd.to_numeric(df[\"Bedroom\"], errors='ignore').astype('Int64')\n",
    "df[\"Bedroom\"] = df[\"Bedroom\"].fillna(0)"
   ]
  },
  {
   "cell_type": "code",
   "execution_count": 107,
   "id": "d2d0dd77",
   "metadata": {},
   "outputs": [
    {
     "name": "stdout",
     "output_type": "stream",
     "text": [
      "CPU times: total: 15.6 ms\n",
      "Wall time: 14 ms\n"
     ]
    }
   ],
   "source": [
    "%%time\n",
    "# Check if word 'furnished' in the title post. \n",
    "search_word = 'furnished'\n",
    "furnished = []\n",
    "for i in range(len(df)):\n",
    "    post_title_list = df['Post Title'][i].lower().split(\" \")\n",
    "    if any(word == search_word for word in post_title_list):\n",
    "        furnished.append(True)\n",
    "    else:\n",
    "        furnished.append(False)\n",
    "df[\"Furnished?\"] = furnished"
   ]
  },
  {
   "cell_type": "code",
   "execution_count": 123,
   "id": "4ba9ee38",
   "metadata": {},
   "outputs": [
    {
     "data": {
      "text/html": [
       "<div>\n",
       "<style scoped>\n",
       "    .dataframe tbody tr th:only-of-type {\n",
       "        vertical-align: middle;\n",
       "    }\n",
       "\n",
       "    .dataframe tbody tr th {\n",
       "        vertical-align: top;\n",
       "    }\n",
       "\n",
       "    .dataframe thead th {\n",
       "        text-align: right;\n",
       "    }\n",
       "</style>\n",
       "<table border=\"1\" class=\"dataframe\">\n",
       "  <thead>\n",
       "    <tr style=\"text-align: right;\">\n",
       "      <th></th>\n",
       "      <th>Post Datetime</th>\n",
       "      <th>Post Title</th>\n",
       "      <th>Post URL</th>\n",
       "      <th>Neighborhood</th>\n",
       "      <th>Bedroom</th>\n",
       "      <th>SQFT</th>\n",
       "      <th>Price</th>\n",
       "      <th>Furnished?</th>\n",
       "    </tr>\n",
       "  </thead>\n",
       "  <tbody>\n",
       "    <tr>\n",
       "      <th>0</th>\n",
       "      <td>2022-12-07 17:33</td>\n",
       "      <td>New Furnished Modern 1 Bedroom 1br suite in Ce...</td>\n",
       "      <td>https://vancouver.craigslist.org/bnc/apa/d/bur...</td>\n",
       "      <td>Burnaby Near Metrotown EA, and Brentwood BCIT</td>\n",
       "      <td>1</td>\n",
       "      <td>550.0</td>\n",
       "      <td>1790</td>\n",
       "      <td>True</td>\n",
       "    </tr>\n",
       "    <tr>\n",
       "      <th>1</th>\n",
       "      <td>2022-12-07 17:32</td>\n",
       "      <td>Fully Furnished 2 Bedrooms Suite at the Mark -...</td>\n",
       "      <td>https://vancouver.craigslist.org/van/apa/d/van...</td>\n",
       "      <td>1372 Seymour</td>\n",
       "      <td>2</td>\n",
       "      <td>1200.0</td>\n",
       "      <td>8000</td>\n",
       "      <td>True</td>\n",
       "    </tr>\n",
       "    <tr>\n",
       "      <th>2</th>\n",
       "      <td>2022-12-07 17:30</td>\n",
       "      <td>(ORCA_REF#1701-8533) ***PENTHOUSE ALERT! Luxur...</td>\n",
       "      <td>https://vancouver.craigslist.org/van/apa/d/van...</td>\n",
       "      <td>South Marine</td>\n",
       "      <td>4</td>\n",
       "      <td>1886.0</td>\n",
       "      <td>10000</td>\n",
       "      <td>False</td>\n",
       "    </tr>\n",
       "    <tr>\n",
       "      <th>3</th>\n",
       "      <td>2022-12-07 17:29</td>\n",
       "      <td>Water View, Large 2BR Fully Furnished, office,...</td>\n",
       "      <td>https://vancouver.craigslist.org/van/apa/d/van...</td>\n",
       "      <td>588 Broughton Street</td>\n",
       "      <td>2</td>\n",
       "      <td>950.0</td>\n",
       "      <td>4495</td>\n",
       "      <td>False</td>\n",
       "    </tr>\n",
       "    <tr>\n",
       "      <th>4</th>\n",
       "      <td>2022-12-07 17:29</td>\n",
       "      <td>LARGE 1 BEDROOM</td>\n",
       "      <td>https://vancouver.craigslist.org/van/apa/d/van...</td>\n",
       "      <td>1477 e broadway</td>\n",
       "      <td>1</td>\n",
       "      <td>650.0</td>\n",
       "      <td>1795</td>\n",
       "      <td>False</td>\n",
       "    </tr>\n",
       "  </tbody>\n",
       "</table>\n",
       "</div>"
      ],
      "text/plain": [
       "      Post Datetime                                         Post Title  \\\n",
       "0  2022-12-07 17:33  New Furnished Modern 1 Bedroom 1br suite in Ce...   \n",
       "1  2022-12-07 17:32  Fully Furnished 2 Bedrooms Suite at the Mark -...   \n",
       "2  2022-12-07 17:30  (ORCA_REF#1701-8533) ***PENTHOUSE ALERT! Luxur...   \n",
       "3  2022-12-07 17:29  Water View, Large 2BR Fully Furnished, office,...   \n",
       "4  2022-12-07 17:29                                    LARGE 1 BEDROOM   \n",
       "\n",
       "                                            Post URL  \\\n",
       "0  https://vancouver.craigslist.org/bnc/apa/d/bur...   \n",
       "1  https://vancouver.craigslist.org/van/apa/d/van...   \n",
       "2  https://vancouver.craigslist.org/van/apa/d/van...   \n",
       "3  https://vancouver.craigslist.org/van/apa/d/van...   \n",
       "4  https://vancouver.craigslist.org/van/apa/d/van...   \n",
       "\n",
       "                                    Neighborhood  Bedroom    SQFT  Price  \\\n",
       "0  Burnaby Near Metrotown EA, and Brentwood BCIT        1   550.0   1790   \n",
       "1                                   1372 Seymour        2  1200.0   8000   \n",
       "2                                   South Marine        4  1886.0  10000   \n",
       "3                           588 Broughton Street        2   950.0   4495   \n",
       "4                                1477 e broadway        1   650.0   1795   \n",
       "\n",
       "   Furnished?  \n",
       "0        True  \n",
       "1        True  \n",
       "2       False  \n",
       "3       False  \n",
       "4       False  "
      ]
     },
     "execution_count": 123,
     "metadata": {},
     "output_type": "execute_result"
    }
   ],
   "source": [
    "df.head(5)"
   ]
  },
  {
   "cell_type": "markdown",
   "id": "825733c1",
   "metadata": {},
   "source": [
    "## Analyze"
   ]
  },
  {
   "cell_type": "code",
   "execution_count": 124,
   "id": "cf2e2aeb",
   "metadata": {},
   "outputs": [
    {
     "name": "stdout",
     "output_type": "stream",
     "text": [
      "Number of furnished suite is 448, and it's 14.93% of the entire list.\n"
     ]
    }
   ],
   "source": [
    "# Count how many rentals are furnished \n",
    "num_furnished_suite = df[df['Furnished?'] == True][\"Furnished?\"].count()\n",
    "num_unfurnished_suite = len(df) - num_furnished_suite\n",
    "furnished_suite_percent = np.round((num_furnished_suite / len(df)) * 100, 2)\n",
    "print(f\"Number of furnished suite is {num_furnished_suite}, and it's {furnished_suite_percent}% of the entire list.\")"
   ]
  },
  {
   "cell_type": "code",
   "execution_count": 126,
   "id": "1be63348",
   "metadata": {},
   "outputs": [
    {
     "name": "stdout",
     "output_type": "stream",
     "text": [
      "Number of the suite: 0 on the ads by Number of Bedroom: 124\n",
      "Number of the suite: 1 on the ads by Number of Bedroom: 922\n",
      "Number of the suite: 2 on the ads by Number of Bedroom: 1228\n",
      "Number of the suite: 3 on the ads by Number of Bedroom: 407\n",
      "Number of the suite: 4 on the ads by Number of Bedroom: 192\n",
      "Number of the suite: 5 on the ads by Number of Bedroom: 90\n",
      "Number of the suite: 6 on the ads by Number of Bedroom: 24\n",
      "Number of the suite: 7 on the ads by Number of Bedroom: 7\n",
      "Number of the suite: 8 on the ads by Number of Bedroom: 6\n"
     ]
    }
   ],
   "source": [
    "# Cost of the rent by number of bedroom. \n",
    "num_bed = np.sort(df[\"Bedroom\"].unique())\n",
    "for i in range(len(num_bed)):\n",
    "    print(f'Number of the suite: {num_bed[i]} on the ads by Number of Bedroom: {len(df[df[\"Bedroom\"] == num_bed[i]])}')"
   ]
  },
  {
   "cell_type": "code",
   "execution_count": null,
   "id": "033382be",
   "metadata": {},
   "outputs": [],
   "source": []
  },
  {
   "cell_type": "markdown",
   "id": "99787009",
   "metadata": {},
   "source": [
    "## Share"
   ]
  },
  {
   "cell_type": "markdown",
   "id": "7f8a4e92",
   "metadata": {},
   "source": [
    "## Act"
   ]
  },
  {
   "cell_type": "code",
   "execution_count": null,
   "id": "ae1acd1f",
   "metadata": {},
   "outputs": [],
   "source": []
  }
 ],
 "metadata": {
  "kernelspec": {
   "display_name": "Python 3 (ipykernel)",
   "language": "python",
   "name": "python3"
  },
  "language_info": {
   "codemirror_mode": {
    "name": "ipython",
    "version": 3
   },
   "file_extension": ".py",
   "mimetype": "text/x-python",
   "name": "python",
   "nbconvert_exporter": "python",
   "pygments_lexer": "ipython3",
   "version": "3.9.12"
  }
 },
 "nbformat": 4,
 "nbformat_minor": 5
}
