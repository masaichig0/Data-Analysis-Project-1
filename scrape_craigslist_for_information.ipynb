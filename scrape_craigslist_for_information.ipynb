{
 "cells": [
  {
   "cell_type": "markdown",
   "id": "099f177d",
   "metadata": {},
   "source": [
    "# Data Anaysis Project part1:\n",
    "\n",
    "I will follow what I am learning from Google Data Analytics course to complete this project.\n",
    "\n",
    "* Ask\n",
    "* Prepare\n",
    "* Process\n",
    "* Analyze\n",
    "* Share\n",
    "* Act\n",
    "\n",
    "\n",
    "\n",
    "## Overview of the project:\n",
    "\n",
    "Analyze housing rental market in Fraser Valley to find out what is hot to real estate investors in this area. Iam going to create the code to analyze dynamically so the investors can apply in their area for their own use.  "
   ]
  },
  {
   "cell_type": "markdown",
   "id": "9b5b0787",
   "metadata": {},
   "source": [
    "\n",
    "## ASK \n",
    "    \n",
    "    Find out what is 'HOT' in the market for investor, so i can find a property for them. Find out supply and demand of the rental housing market and calculate appropreate purchase price. \n",
    "\n",
    "#### What are the questions to ask?\n",
    "Supply side:\n",
    "* How much is the market rental price?\n",
    "* What type of the rental is most popular and least popular?\n",
    "* How many ads per day? Number of supply \n",
    "* Is rental price rising or decreasing over time?\n",
    "* What is the correlation between housing price and rental price?\n",
    "* From those questions, what is my prediction of the rental market? \n",
    "\n",
    "Demand side:\n",
    "* What kind of propety does people look for rent?\n",
    "* What is the price range they are looking for?\n",
    "* What are the purposes of renting. (Who is looking for rent)\n",
    "\n",
    "\n",
    "\n"
   ]
  },
  {
   "cell_type": "markdown",
   "id": "acc19a3f",
   "metadata": {},
   "source": [
    "## Prepare  \n",
    "\n",
    "#### Using Craigslist add to collect market data: (Supply side)\n",
    "Scrape craigslist rental housing pages and store in csv file. \n",
    "\n",
    "<a href='https://github.com/rileypredum/East-Bay-Housing-Web-Scrape/blob/master/EB_Apt_Prices_Final.ipynb'>Code: I will use this code and modify for my situation.  </a> <br>\n",
    "<a href='https://towardsdatascience.com/web-scraping-craigslist-a-complete-tutorial-c41cea4f4981'>Explaning</a>\n",
    "\n",
    "## Process\n",
    "\n",
    "I noticed that the all the values are string, so I will convert to correct data type as I collect the data. "
   ]
  },
  {
   "cell_type": "code",
   "execution_count": 2,
   "id": "38a17e84",
   "metadata": {},
   "outputs": [],
   "source": [
    "# Import libralis\n",
    "from requests import get\n",
    "from bs4 import BeautifulSoup\n",
    "from datetime import datetime\n",
    "import pandas as pd\n",
    "import numpy as np\n",
    "\n",
    "from time import sleep\n",
    "import re\n",
    "from random import randint\n",
    "from warnings import warn\n",
    "from time import time\n",
    "from IPython.display import clear_output"
   ]
  },
  {
   "cell_type": "code",
   "execution_count": 7,
   "id": "c27611ac",
   "metadata": {},
   "outputs": [],
   "source": [
    "def get_url(city_name, num_post):\n",
    "    return f'https://{city_name.lower()}.craigslist.org/search/apa?s={num_post}'"
   ]
  },
  {
   "cell_type": "code",
   "execution_count": 8,
   "id": "337dd4b1",
   "metadata": {},
   "outputs": [
    {
     "name": "stdout",
     "output_type": "stream",
     "text": [
      "<class 'bs4.element.ResultSet'>\n",
      "120\n"
     ]
    }
   ],
   "source": [
    "# Chilliwack rental housing\n",
    "\n",
    "response = get(get_url(city_name = 'Abbotsford', num_post = 120))\n",
    "\n",
    "\n",
    "soup = BeautifulSoup(response.text, 'html.parser')\n",
    "\n",
    "posts = soup.find_all('li', class_='result-row')\n",
    "print(type(posts)) # to double check that I got resultSet\n",
    "print(len(posts)) # to double check I got 120 elements"
   ]
  },
  {
   "cell_type": "code",
   "execution_count": 43,
   "id": "5c64c7af",
   "metadata": {},
   "outputs": [
    {
     "name": "stdout",
     "output_type": "stream",
     "text": [
      "Total number of search result: 3000\n"
     ]
    }
   ],
   "source": [
    "# Find the total number of posts to find the limit of the pagination\n",
    "city = 'Vancouver'\n",
    "response = get(get_url(city_name = city, num_post=0))\n",
    "soup = BeautifulSoup(response.text, 'html.parser')\n",
    "posts = soup.find_all('li', class_='result-row')\n",
    "results_num = soup.find('div', class_='search-legend')\n",
    "results_total = int(results_num.find('span', class_='totalcount').text)\n",
    "print(f\"Total number of search result: {results_total}\")\n",
    "\n",
    "# each page has 119 posts so each new page is defined as follows; s=120, s=240, .....\n",
    "pages = np.arange(0, results_total+1, 120)\n",
    "\n",
    "iterations = 0\n",
    "\n",
    "post_date = []\n",
    "post_cities = []\n",
    "num_bedroom = []\n",
    "sqfts = []\n",
    "prices = []\n",
    "post_titles = []\n",
    "\n",
    "for page in pages:\n",
    "    \n",
    "    # get request\n",
    "    response = get(get_url(city_name=city, num_post=page))\n",
    "    \n",
    "    sleep(1)\n",
    "    \n",
    "    # throw warning for status code that are not 200\n",
    "    if response.status_code != 200:\n",
    "        warn(f'Request: {requests}; Status code: {response.status_code}')\n",
    "        \n",
    "    soup = BeautifulSoup(response.text, 'html.parser')\n",
    "    \n",
    "    posts = soup.find_all('li', class_='result-row')\n",
    "    \n",
    "    \n",
    "    # Extract data \n",
    "    for post in posts:\n",
    "        \n",
    "        if post.find('span', class_ = 'result-hood') is not None:\n",
    "            \n",
    "            # Posting date\n",
    "            post_datetime = post.find('time', class_='result-date')['datetime']\n",
    "            post_date.append(post_datetime)\n",
    "            \n",
    "            # Neighbourhoods\n",
    "            post_city = post.find('span', class_='result-hood').text.strip('( )')\n",
    "            post_cities.append(post_city)\n",
    "            \n",
    "            # title text\n",
    "            post_title = post.find('a', class_='result-title hdrlnk').text\n",
    "            post_titles.append(post_title)\n",
    "            \n",
    "            # Post price in integer\n",
    "            price = int(post.find('span', class_='result-price').text.split('$')[1].replace(',', ''))\n",
    "            prices.append(price)\n",
    "            \n",
    "            if post.find('span', class_ = 'housing') is not None:\n",
    "                \n",
    "                #if the first element is accidentally square footage\n",
    "                if 'ft2' in post.find('span', class_ = 'housing').text.split()[0]:\n",
    "                    \n",
    "                    #make bedroom nan\n",
    "                    bedroom_count = np.nan\n",
    "                    num_bedroom.append(bedroom_count)\n",
    "                    \n",
    "                    #make sqft the first element\n",
    "                    sqft = int(post.find('span', class_ = 'housing').text.split()[0][:-3])\n",
    "                    sqfts.append(sqft)\n",
    "                    \n",
    "                #if the length of the housing details element is more than 2\n",
    "                elif len(post.find('span', class_ = 'housing').text.split()) > 2:\n",
    "                    \n",
    "                    #therefore element 0 will be bedroom count\n",
    "                    bedroom_count = post.find('span', class_ = 'housing').text.replace(\"br\", \"\").split()[0]\n",
    "                    num_bedroom.append(bedroom_count)\n",
    "                    \n",
    "                    #and sqft will be number 3, so set these here and append\n",
    "                    sqft = int(post.find('span', class_ = 'housing').text.split()[2][:-3])\n",
    "                    sqfts.append(sqft)\n",
    "                    \n",
    "                #if there is num bedrooms but no sqft\n",
    "                elif len(post.find('span', class_ = 'housing').text.split()) == 2:\n",
    "                    \n",
    "                    #therefore element 0 will be bedroom count\n",
    "                    bedroom_count = post.find('span', class_ = 'housing').text.replace(\"br\", \"\").split()[0]\n",
    "                    num_bedroom.append(bedroom_count)\n",
    "                    \n",
    "                    #and sqft will be number 3, so set these here and append\n",
    "                    sqft = np.nan\n",
    "                    sqfts.append(sqft)                    \n",
    "                \n",
    "                else:\n",
    "                    bedroom_count = np.nan\n",
    "                    num_bedroom.append(bedroom_count)\n",
    "                \n",
    "                    sqft = np.nan\n",
    "                    sqfts.append(sqft)\n",
    "                \n",
    "            #if none of those conditions catch, make bedroom nan, this won't be needed    \n",
    "            else:\n",
    "                bedroom_count = np.nan\n",
    "                num_bedroom.append(bedroom_count)\n",
    "                \n",
    "                sqft = np.nan\n",
    "                sqfts.append(sqft)\n",
    "            #    num_bedroom.append(bedroom_count)\n",
    "                \n",
    "            #    sqft = np.nan\n",
    "            #    sqfts.append(sqft)\n",
    "        iterations += 1\n",
    "        #print(\"Page\" + str(iterations) + \"Scraped Successfully!\")   "
   ]
  },
  {
   "cell_type": "code",
   "execution_count": 41,
   "id": "2eed5e37",
   "metadata": {},
   "outputs": [
    {
     "name": "stdout",
     "output_type": "stream",
     "text": [
      "<class 'pandas.core.frame.DataFrame'>\n",
      "RangeIndex: 3000 entries, 0 to 2999\n",
      "Data columns (total 6 columns):\n",
      " #   Column         Non-Null Count  Dtype  \n",
      "---  ------         --------------  -----  \n",
      " 0   Post Datetime  3000 non-null   object \n",
      " 1   Post Title     3000 non-null   object \n",
      " 2   Neighborhood   3000 non-null   object \n",
      " 3   Bedroom        2880 non-null   object \n",
      " 4   SQFT           2635 non-null   float64\n",
      " 5   Price          3000 non-null   int64  \n",
      "dtypes: float64(1), int64(1), object(4)\n",
      "memory usage: 140.8+ KB\n",
      "None\n"
     ]
    },
    {
     "data": {
      "text/html": [
       "<div>\n",
       "<style scoped>\n",
       "    .dataframe tbody tr th:only-of-type {\n",
       "        vertical-align: middle;\n",
       "    }\n",
       "\n",
       "    .dataframe tbody tr th {\n",
       "        vertical-align: top;\n",
       "    }\n",
       "\n",
       "    .dataframe thead th {\n",
       "        text-align: right;\n",
       "    }\n",
       "</style>\n",
       "<table border=\"1\" class=\"dataframe\">\n",
       "  <thead>\n",
       "    <tr style=\"text-align: right;\">\n",
       "      <th></th>\n",
       "      <th>Post Datetime</th>\n",
       "      <th>Post Title</th>\n",
       "      <th>Neighborhood</th>\n",
       "      <th>Bedroom</th>\n",
       "      <th>SQFT</th>\n",
       "      <th>Price</th>\n",
       "    </tr>\n",
       "  </thead>\n",
       "  <tbody>\n",
       "    <tr>\n",
       "      <th>0</th>\n",
       "      <td>2022-12-07 11:02</td>\n",
       "      <td>2 Bedroom in Kits</td>\n",
       "      <td>Kits-Vancouver</td>\n",
       "      <td>2</td>\n",
       "      <td>850.0</td>\n",
       "      <td>2700</td>\n",
       "    </tr>\n",
       "    <tr>\n",
       "      <th>1</th>\n",
       "      <td>2022-12-07 11:02</td>\n",
       "      <td>Port Moody prime location with three bedroom f...</td>\n",
       "      <td>Center of Port Moody</td>\n",
       "      <td>3</td>\n",
       "      <td>1818.0</td>\n",
       "      <td>138</td>\n",
       "    </tr>\n",
       "    <tr>\n",
       "      <th>2</th>\n",
       "      <td>2022-12-07 11:01</td>\n",
       "      <td>FULLY FURNISHED Studio &amp; Den with Private Balc...</td>\n",
       "      <td>Yaletown-Vancouver</td>\n",
       "      <td>NaN</td>\n",
       "      <td>500.0</td>\n",
       "      <td>2600</td>\n",
       "    </tr>\n",
       "    <tr>\n",
       "      <th>3</th>\n",
       "      <td>2022-12-07 11:01</td>\n",
       "      <td>One bedroom  brandnew basement  south slope cl...</td>\n",
       "      <td>Burnaby</td>\n",
       "      <td>1</td>\n",
       "      <td>NaN</td>\n",
       "      <td>1750</td>\n",
       "    </tr>\n",
       "    <tr>\n",
       "      <th>4</th>\n",
       "      <td>2022-12-07 11:01</td>\n",
       "      <td>Brand new 3 bedroom apartment available now</td>\n",
       "      <td>6000 McKay ave</td>\n",
       "      <td>3</td>\n",
       "      <td>1200.0</td>\n",
       "      <td>4000</td>\n",
       "    </tr>\n",
       "  </tbody>\n",
       "</table>\n",
       "</div>"
      ],
      "text/plain": [
       "      Post Datetime                                         Post Title  \\\n",
       "0  2022-12-07 11:02                                  2 Bedroom in Kits   \n",
       "1  2022-12-07 11:02  Port Moody prime location with three bedroom f...   \n",
       "2  2022-12-07 11:01  FULLY FURNISHED Studio & Den with Private Balc...   \n",
       "3  2022-12-07 11:01  One bedroom  brandnew basement  south slope cl...   \n",
       "4  2022-12-07 11:01        Brand new 3 bedroom apartment available now   \n",
       "\n",
       "           Neighborhood Bedroom    SQFT  Price  \n",
       "0        Kits-Vancouver       2   850.0   2700  \n",
       "1  Center of Port Moody       3  1818.0    138  \n",
       "2    Yaletown-Vancouver     NaN   500.0   2600  \n",
       "3               Burnaby       1     NaN   1750  \n",
       "4        6000 McKay ave       3  1200.0   4000  "
      ]
     },
     "execution_count": 41,
     "metadata": {},
     "output_type": "execute_result"
    }
   ],
   "source": [
    "# create DataFrame\n",
    "df = pd.DataFrame({'Post Datetime': post_date,\n",
    "                   'Post Title': post_titles,\n",
    "                  'Neighborhood': post_cities,\n",
    "                  'Bedroom': num_bedroom,\n",
    "                  'SQFT': sqfts,\n",
    "                  'Price': prices})\n",
    "\n",
    "print(df.info())\n",
    "\n",
    "df.head()"
   ]
  },
  {
   "cell_type": "markdown",
   "id": "87fdfbd7",
   "metadata": {},
   "source": [
    "## Process\n",
    "\n",
    "Check the dataset I created from the Craigslist ad and final adjustment of the dataset to analyze the data. \n",
    "\n",
    "First to check the dataset:"
   ]
  },
  {
   "cell_type": "code",
   "execution_count": 42,
   "id": "98d6b7aa",
   "metadata": {},
   "outputs": [
    {
     "name": "stdout",
     "output_type": "stream",
     "text": [
      "<class 'pandas.core.frame.DataFrame'>\n",
      "RangeIndex: 3000 entries, 0 to 2999\n",
      "Data columns (total 6 columns):\n",
      " #   Column         Non-Null Count  Dtype  \n",
      "---  ------         --------------  -----  \n",
      " 0   Post Datetime  3000 non-null   object \n",
      " 1   Post Title     3000 non-null   object \n",
      " 2   Neighborhood   3000 non-null   object \n",
      " 3   Bedroom        2880 non-null   object \n",
      " 4   SQFT           2635 non-null   float64\n",
      " 5   Price          3000 non-null   int64  \n",
      "dtypes: float64(1), int64(1), object(4)\n",
      "memory usage: 140.8+ KB\n"
     ]
    }
   ],
   "source": [
    "df.info()"
   ]
  },
  {
   "cell_type": "markdown",
   "id": "abcead15",
   "metadata": {},
   "source": [
    "I would like to distingish FULLY FURNISHED suite and not furnished suite. I will create another column to show if it isTURE or FALSE. I noticed the title says if it is furnished suite or not (If not on the title, I assume that the suite is not furnished) \n",
    "\n",
    "Also, I noticed that the number of bedroom is string, so I will convert to integer. "
   ]
  },
  {
   "cell_type": "code",
   "execution_count": null,
   "id": "6c0e8bb2",
   "metadata": {},
   "outputs": [],
   "source": []
  },
  {
   "cell_type": "code",
   "execution_count": null,
   "id": "d2d0dd77",
   "metadata": {},
   "outputs": [],
   "source": []
  },
  {
   "cell_type": "code",
   "execution_count": null,
   "id": "d996abbc",
   "metadata": {},
   "outputs": [],
   "source": []
  },
  {
   "cell_type": "code",
   "execution_count": null,
   "id": "b9b2ce3d",
   "metadata": {},
   "outputs": [],
   "source": []
  },
  {
   "cell_type": "markdown",
   "id": "825733c1",
   "metadata": {},
   "source": [
    "## Analyze"
   ]
  },
  {
   "cell_type": "markdown",
   "id": "99787009",
   "metadata": {},
   "source": [
    "## Share"
   ]
  },
  {
   "cell_type": "markdown",
   "id": "7f8a4e92",
   "metadata": {},
   "source": [
    "## Act"
   ]
  },
  {
   "cell_type": "code",
   "execution_count": null,
   "id": "ae1acd1f",
   "metadata": {},
   "outputs": [],
   "source": []
  }
 ],
 "metadata": {
  "kernelspec": {
   "display_name": "Python 3 (ipykernel)",
   "language": "python",
   "name": "python3"
  },
  "language_info": {
   "codemirror_mode": {
    "name": "ipython",
    "version": 3
   },
   "file_extension": ".py",
   "mimetype": "text/x-python",
   "name": "python",
   "nbconvert_exporter": "python",
   "pygments_lexer": "ipython3",
   "version": "3.9.12"
  }
 },
 "nbformat": 4,
 "nbformat_minor": 5
}
