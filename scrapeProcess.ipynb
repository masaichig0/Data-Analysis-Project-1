{
 "cells": [
  {
   "cell_type": "code",
   "execution_count": 1,
   "id": "5a451f08",
   "metadata": {},
   "outputs": [],
   "source": [
    "# Import libralis\n",
    "from requests import get\n",
    "from bs4 import BeautifulSoup\n",
    "from datetime import datetime\n",
    "import pandas as pd\n",
    "import numpy as np\n",
    "\n",
    "from time import sleep\n",
    "import re\n",
    "from random import randint\n",
    "from warnings import warn\n",
    "from time import time\n",
    "from IPython.display import clear_output"
   ]
  },
  {
   "cell_type": "code",
   "execution_count": 2,
   "id": "76d14a58",
   "metadata": {},
   "outputs": [
    {
     "name": "stdout",
     "output_type": "stream",
     "text": [
      "<class 'bs4.element.ResultSet'>\n",
      "120\n"
     ]
    }
   ],
   "source": [
    "def get_url(city_name, num_post):\n",
    "    return f'https://{city_name.lower()}.craigslist.org/search/apa?s={num_post}'\n",
    "\n",
    "# Chilliwack rental housing\n",
    "\n",
    "response = get(get_url(city_name = 'Abbotsford', num_post = 120))\n",
    "\n",
    "\n",
    "soup = BeautifulSoup(response.text, 'html.parser')\n",
    "\n",
    "posts = soup.find_all('li', class_='result-row')\n",
    "print(type(posts)) # to double check that I got resultSet\n",
    "print(len(posts)) # to double check I got 120 elements"
   ]
  },
  {
   "cell_type": "code",
   "execution_count": 3,
   "id": "84094eef",
   "metadata": {},
   "outputs": [
    {
     "data": {
      "text/plain": [
       "<li class=\"result-row\" data-pid=\"7561022887\">\n",
       "<a class=\"result-image gallery\" data-ids=\"3:00H0H_61Mv94VrUO6z_0CI0lM,3:00303_4bYXyHLOre3z_0CI0lM,3:00r0r_KQ7lji3hEwz_0CI0lM,3:00t0t_izgcbn38fZKz_0lM0CI,3:00b0b_ls5eHGzUIgCz_0lM0CI,3:00r0r_7pnqoRnBhh1z_0CI0lM,3:01515_5xQIRdlgO0Zz_0lM0CI,3:00h0h_fSvvUdbNpE8z_0CI0lM,3:00u0u_hSk1ulaxOqqz_0lM0CI,3:00000_5A1fFNjC1NLz_0lM0CI,3:00000_3PT1l51nTJzz_0CI0lM,3:00Y0Y_cfvHKXVZbAsz_0CI0lM,3:00V0V_e1FmauSs65hz_0CI0lM,3:00g0g_1R6JPeUj4bQz_0CI0lM\" href=\"https://abbotsford.craigslist.org/apa/d/abbotsford-southeast-luxury-loft-bed-den/7561022887.html\">\n",
       "<span class=\"result-price\">$1,850</span>\n",
       "</a>\n",
       "<div class=\"result-info\">\n",
       "<span class=\"icon icon-star\" role=\"button\">\n",
       "<span class=\"screen-reader-text\">favorite this post</span>\n",
       "</span>\n",
       "<time class=\"result-date\" datetime=\"2022-12-06 16:44\" title=\"Tue 06 Dec 04:44:17 PM\">Dec  6</time>\n",
       "<h3 class=\"result-heading\">\n",
       "<a class=\"result-title hdrlnk\" data-id=\"7561022887\" href=\"https://abbotsford.craigslist.org/apa/d/abbotsford-southeast-luxury-loft-bed-den/7561022887.html\" id=\"postid_7561022887\">Luxury Loft 1 bed + Den</a>\n",
       "</h3>\n",
       "<span class=\"result-meta\">\n",
       "<span class=\"result-price\">$1,850</span>\n",
       "<span class=\"housing\">\n",
       "                    1br -\n",
       "                    900ft<sup>2</sup> -\n",
       "                </span>\n",
       "<span class=\"result-hood\"> (Abbotsford)</span>\n",
       "<span class=\"result-tags\">\n",
       "<span class=\"pictag\">pic</span>\n",
       "</span>\n",
       "<span class=\"banish icon icon-trash\" role=\"button\">\n",
       "<span class=\"screen-reader-text\">hide this posting</span>\n",
       "</span>\n",
       "<span aria-hidden=\"true\" class=\"unbanish icon icon-trash red\" role=\"button\"></span>\n",
       "<a class=\"restore-link\" href=\"#\">\n",
       "<span class=\"restore-narrow-text\">restore</span>\n",
       "<span class=\"restore-wide-text\">restore this posting</span>\n",
       "</a>\n",
       "</span>\n",
       "</div>\n",
       "</li>"
      ]
     },
     "execution_count": 3,
     "metadata": {},
     "output_type": "execute_result"
    }
   ],
   "source": [
    "# Show first post to look into it\n",
    "post_one = posts[0]\n",
    "post_one"
   ]
  },
  {
   "cell_type": "code",
   "execution_count": 4,
   "id": "62d2abf3",
   "metadata": {},
   "outputs": [
    {
     "data": {
      "text/plain": [
       "'Abbotsford'"
      ]
     },
     "execution_count": 4,
     "metadata": {},
     "output_type": "execute_result"
    }
   ],
   "source": [
    "# City posted\n",
    "post_city = post_one.find('span', class_='result-hood').text.strip('( )')\n",
    "post_city"
   ]
  },
  {
   "cell_type": "code",
   "execution_count": 5,
   "id": "8b781ef3",
   "metadata": {},
   "outputs": [
    {
     "data": {
      "text/plain": [
       "(1, int)"
      ]
     },
     "execution_count": 5,
     "metadata": {},
     "output_type": "execute_result"
    }
   ],
   "source": [
    "# Number of bedroom\n",
    "num_bed = int(post_one.find('span', class_='housing').text.split()[0].replace('br', ''))\n",
    "num_bed, type(num_bed)"
   ]
  },
  {
   "cell_type": "code",
   "execution_count": 6,
   "id": "feb022f0",
   "metadata": {},
   "outputs": [
    {
     "data": {
      "text/plain": [
       "(900, int)"
      ]
     },
     "execution_count": 6,
     "metadata": {},
     "output_type": "execute_result"
    }
   ],
   "source": [
    "# SQFT\n",
    "sqft = int(post_one.find('span', class_='housing').text.split()[2].replace('ft2', ''))\n",
    "sqft, type(sqft)"
   ]
  },
  {
   "cell_type": "code",
   "execution_count": 7,
   "id": "266de581",
   "metadata": {},
   "outputs": [
    {
     "data": {
      "text/plain": [
       "(1850, int)"
      ]
     },
     "execution_count": 7,
     "metadata": {},
     "output_type": "execute_result"
    }
   ],
   "source": [
    "# rental price\n",
    "price = int(post_one.find('span', class_='result-price').text.split('$')[1].replace(',', ''))\n",
    "price, type(price)"
   ]
  },
  {
   "cell_type": "code",
   "execution_count": 8,
   "id": "45717795",
   "metadata": {},
   "outputs": [
    {
     "data": {
      "text/plain": [
       "'Luxury Loft 1 bed + Den'"
      ]
     },
     "execution_count": 8,
     "metadata": {},
     "output_type": "execute_result"
    }
   ],
   "source": [
    "# Post ad title\n",
    "post_ad = post_one.find('a', class_='result-title hdrlnk').text\n",
    "post_ad"
   ]
  },
  {
   "cell_type": "code",
   "execution_count": 9,
   "id": "c3443932",
   "metadata": {},
   "outputs": [
    {
     "data": {
      "text/plain": [
       "(datetime.datetime(2022, 12, 6, 16, 44), datetime.datetime)"
      ]
     },
     "execution_count": 9,
     "metadata": {},
     "output_type": "execute_result"
    }
   ],
   "source": [
    "# post datetime\n",
    "datetime = datetime.strptime(post_one.find('time', class_='result-date')['datetime'], '%Y-%m-%d %H:%M')\n",
    "datetime, type(datetime)"
   ]
  },
  {
   "cell_type": "code",
   "execution_count": 10,
   "id": "a7791341",
   "metadata": {},
   "outputs": [
    {
     "data": {
      "text/plain": [
       "<div class=\"search-legend\">\n",
       "<div class=\"search-view js-only\">\n",
       "<div aria-expanded=\"false\" aria-label=\"view options\" class=\"dropdown dropdown-icons dropdown-arrows dropdown-view\" role=\"toolbar\">\n",
       "<ul class=\"dropdown-list\">\n",
       "<li class=\"dropdown-item mode sel\">\n",
       "<button data-selection=\"list\" id=\"listview\" title=\"show results in a list\">\n",
       "<span class=\"view-list icon\"></span>list\n",
       "                </button>\n",
       "<span class=\"toggle-arrow\"></span>\n",
       "</li>\n",
       "<li class=\"dropdown-item mode\">\n",
       "<button data-selection=\"pic\" id=\"picview\" title=\"show results in a list with thumbnail pictures\">\n",
       "<span class=\"view-thumb icon\"></span>thumb\n",
       "                </button>\n",
       "<span class=\"toggle-arrow\"></span>\n",
       "</li>\n",
       "<li class=\"dropdown-item mode\">\n",
       "<button data-selection=\"grid\" id=\"gridview\" title=\"show results side-by-side with larger pictures\">\n",
       "<span class=\"view-gallery icon\"></span>gallery\n",
       "                </button>\n",
       "<span class=\"toggle-arrow\"></span>\n",
       "</li>\n",
       "<li class=\"dropdown-item mode\">\n",
       "<button data-selection=\"map\" id=\"mapview\" title=\"show results on a map\">\n",
       "<span class=\"view-map icon\"></span>map\n",
       "                    </button>\n",
       "<span class=\"toggle-arrow\"></span>\n",
       "</li>\n",
       "</ul>\n",
       "</div>\n",
       "</div>\n",
       "<div class=\"search-sort\">\n",
       "<div aria-expanded=\"false\" aria-label=\"sort options\" class=\"dropdown dropdown-sort dropdown-arrows\" data-default-sort=\"date\" role=\"toolbar\">\n",
       "<ul class=\"dropdown-list\">\n",
       "<li aria-selected=\"false\" class=\"dropdown-item mode\">\n",
       "<a data-selection=\"upcoming\" href=\"/search/apa?sort=upcoming&amp;\" title=\"show upcoming open houses\">upcoming <span class=\"toggle-arrow\"></span></a>\n",
       "</li>\n",
       "<li aria-selected=\"true\" class=\"dropdown-item mode sel\">\n",
       "<a data-selection=\"date\" href=\"/search/apa?sort=date&amp;\" title=\"show newest matches first\">newest <span class=\"toggle-arrow\"></span></a>\n",
       "</li>\n",
       "<li aria-selected=\"false\" class=\"dropdown-item mode\">\n",
       "<a data-selection=\"dateoldest\" href=\"/search/apa?sort=dateoldest&amp;\" title=\"show oldest matches first\">oldest <span class=\"toggle-arrow\"></span></a>\n",
       "</li>\n",
       "<li aria-selected=\"false\" class=\"dropdown-item mode\">\n",
       "<a data-selection=\"priceasc\" href=\"/search/apa?sort=priceasc&amp;\" title=\"sort by price, lowest to highest\">﹩→ $$$ <span class=\"toggle-arrow\"></span></a>\n",
       "</li>\n",
       "<li aria-selected=\"false\" class=\"dropdown-item mode\">\n",
       "<a data-selection=\"pricedsc\" href=\"/search/apa?sort=pricedsc&amp;\" title=\"sort by price, highest to lowest\">$$$ → ﹩ <span class=\"toggle-arrow\"></span></a>\n",
       "</li>\n",
       "</ul>\n",
       "</div>\n",
       "</div>\n",
       "<div class=\"paginator buttongroup\">\n",
       "<span class=\"resulttotal\">\n",
       "<span class=\"for-map\">\n",
       "        showing <span class=\"displaycountShow\">...</span> postings\n",
       "        <span class=\"zoom-out-for-more\" style=\"display: none\">\n",
       "            -\n",
       "            <a href=\"\">\n",
       "                zoom out for all <span class=\"total\">1532</span>\n",
       "</a>\n",
       "</span>\n",
       "</span>\n",
       "</span>\n",
       "<span class=\"buttons\">\n",
       "<a class=\"button first\" href=\"/search/apa\" title=\"first page\">&lt;&lt;</a>\n",
       "<span class=\"button first\" title=\"first page\">&lt;&lt;</span>\n",
       "<a class=\"button prev\" href=\"/search/apa\" title=\"previous page\">&lt; prev</a>\n",
       "<span class=\"button prev\" title=\"previous page\">&lt; prev</span>\n",
       "<span class=\"button pagenum\">\n",
       "<span class=\"range\">\n",
       "<span class=\"rangeFrom\">121</span>\n",
       "                -\n",
       "                <span class=\"rangeTo\">240</span>\n",
       "</span>\n",
       "            /\n",
       "            <span class=\"totalcount\">1532</span>\n",
       "</span>\n",
       "<a class=\"button next\" href=\"/search/apa?s=240\" title=\"next page\">next &gt; </a>\n",
       "<span class=\"button next\" title=\"next page\"> next &gt; </span>\n",
       "</span>\n",
       "</div>\n",
       "</div>"
      ]
     },
     "execution_count": 10,
     "metadata": {},
     "output_type": "execute_result"
    }
   ],
   "source": [
    "search_legend = soup.find('div', class_='search-legend')\n",
    "search_legend"
   ]
  },
  {
   "cell_type": "code",
   "execution_count": 11,
   "id": "0a1670e2",
   "metadata": {},
   "outputs": [
    {
     "data": {
      "text/plain": [
       "'121'"
      ]
     },
     "execution_count": 11,
     "metadata": {},
     "output_type": "execute_result"
    }
   ],
   "source": [
    "# Find out the beggining of the post number \n",
    "num_post_start = search_legend.find('span', class_='rangeFrom').text\n",
    "num_post_start"
   ]
  },
  {
   "cell_type": "code",
   "execution_count": 12,
   "id": "7a476c7f",
   "metadata": {},
   "outputs": [
    {
     "data": {
      "text/plain": [
       "1532"
      ]
     },
     "execution_count": 12,
     "metadata": {},
     "output_type": "execute_result"
    }
   ],
   "source": [
    "# Find out total number of the search result\n",
    "results_num = soup.find('div', class_='search-legend')\n",
    "results_total = int(results_num.find('span', class_='totalcount').text)\n",
    "results_total"
   ]
  },
  {
   "cell_type": "code",
   "execution_count": null,
   "id": "28194768",
   "metadata": {},
   "outputs": [],
   "source": []
  }
 ],
 "metadata": {
  "kernelspec": {
   "display_name": "Python 3 (ipykernel)",
   "language": "python",
   "name": "python3"
  },
  "language_info": {
   "codemirror_mode": {
    "name": "ipython",
    "version": 3
   },
   "file_extension": ".py",
   "mimetype": "text/x-python",
   "name": "python",
   "nbconvert_exporter": "python",
   "pygments_lexer": "ipython3",
   "version": "3.9.12"
  }
 },
 "nbformat": 4,
 "nbformat_minor": 5
}
