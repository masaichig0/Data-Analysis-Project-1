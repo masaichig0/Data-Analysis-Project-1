{
 "cells": [
  {
   "cell_type": "markdown",
   "id": "365972c8",
   "metadata": {},
   "source": [
    "# Data Analysis Project part 2\n",
    "\n",
    "### Purpose of this project:\n",
    "\n",
    "The purpose of this project is to categorize the propety with unsupervised leaning with the data I am collection from craigslist. Analyze each category, so I could predict the rental price I can get from the property you are thinking to buy as investment purpose. "
   ]
  },
  {
   "cell_type": "markdown",
   "id": "04e5d2f5",
   "metadata": {},
   "source": [
    "## Crate the function to add parameters I add on other notebook to do analysis."
   ]
  },
  {
   "cell_type": "code",
   "execution_count": null,
   "id": "d34d0f98",
   "metadata": {},
   "outputs": [],
   "source": [
    "def add_param():\n",
    "    "
   ]
  }
 ],
 "metadata": {
  "kernelspec": {
   "display_name": "Python 3 (ipykernel)",
   "language": "python",
   "name": "python3"
  },
  "language_info": {
   "codemirror_mode": {
    "name": "ipython",
    "version": 3
   },
   "file_extension": ".py",
   "mimetype": "text/x-python",
   "name": "python",
   "nbconvert_exporter": "python",
   "pygments_lexer": "ipython3",
   "version": "3.9.12"
  }
 },
 "nbformat": 4,
 "nbformat_minor": 5
}
